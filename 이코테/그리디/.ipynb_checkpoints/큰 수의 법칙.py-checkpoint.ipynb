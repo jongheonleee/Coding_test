{
 "cells": [
  {
   "cell_type": "code",
   "execution_count": 3,
   "id": "8ae11c9b",
   "metadata": {},
   "outputs": [
    {
     "name": "stdout",
     "output_type": "stream",
     "text": [
      "5 8 3\n",
      "2 3 4 5 6\n",
      "46\n"
     ]
    }
   ],
   "source": [
    "'''\n",
    "-큰 수의 법칙: 다양한 수로 이루어진 배열이 있을 때 주어진\n",
    "수들을 M번 더하여 가장 큰 수를 만드는 법칙.\n",
    "\n",
    "-단, 배열의 특정한 인덱스에 해당하는 수가 연속해서 K번을 \n",
    "초과하여 더해질 수 없는 것이 특징임\n",
    "\n",
    "-서로 다른 인덱스에 해당하는 수가 같은 경우에도 \n",
    "서로 다른 것으로 간주함.\n",
    "\n",
    "-N: 배열의 크기, M: 숫자가 더해지는 횟수, K: 특정 인덱스에 해당하는 수가 K번 이상\n",
    "연속적으로 더해 질 수 없음.\n",
    "\n",
    "'''\n",
    "\n",
    "# N, M, K를 공백으로 구분하여 입력받기\n",
    "n, m, k = map(int, input().split())\n",
    "\n",
    "# N개의 수를 공백으로 구분하여 입력받기\n",
    "data = list(map(int, input().split()))\n",
    "\n",
    "data.sort()\n",
    "first = data[n-1]\n",
    "second = data[n-2]\n",
    "\n",
    "# m을 (k+1)로 나눈 몫이 수열이 반복되는 횟수가 됨, 다시 여기서 \n",
    "# k를 곱해주면 가장 큰 수가 등장하는 횟수가 됨.\n",
    "cnt = int(m/(k+1)) * k\n",
    "# 만약, m을 (k+1)로 나누어떨어지지 않을때,\n",
    "# 나머지만큼 가장 큰 수가 추가됨\n",
    "cnt += m % (k+1)\n",
    "\n",
    "res = 0\n",
    "res += cnt * first\n",
    "res += (m-cnt) * second\n",
    "\n",
    "print(res)"
   ]
  },
  {
   "cell_type": "code",
   "execution_count": null,
   "id": "11815b21",
   "metadata": {},
   "outputs": [],
   "source": []
  }
 ],
 "metadata": {
  "kernelspec": {
   "display_name": "Python 3 (ipykernel)",
   "language": "python",
   "name": "python3"
  },
  "language_info": {
   "codemirror_mode": {
    "name": "ipython",
    "version": 3
   },
   "file_extension": ".py",
   "mimetype": "text/x-python",
   "name": "python",
   "nbconvert_exporter": "python",
   "pygments_lexer": "ipython3",
   "version": "3.9.12"
  }
 },
 "nbformat": 4,
 "nbformat_minor": 5
}
