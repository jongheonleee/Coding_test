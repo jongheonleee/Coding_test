{
 "cells": [
  {
   "cell_type": "code",
   "execution_count": 1,
   "id": "b85157d3",
   "metadata": {},
   "outputs": [
    {
     "name": "stdout",
     "output_type": "stream",
     "text": [
      "3 3\n",
      "3 1 2\n",
      "4 1 4 \n",
      "2 2 2\n",
      "2\n"
     ]
    }
   ],
   "source": [
    "'''\n",
    "여러 개의 숫자 카드 중에서 가장 높은 숫자가 쓰인 카드 한 장을 뽑음\n",
    "게임의 룰을 지키며 카드를 뽑아야함\n",
    "\n",
    "-1. N * M 형태로 놓임.(N:행의 개수, M:열의 개수)\n",
    "-2. 먼저 뽑고자 하는 카드가 포함되어 있는 행을 선택\n",
    "-3. 선택된 행에서 가장 숫자가 낮은 카드를 뽑음\n",
    "-4. 따라서, 처음에 카드를 골라낼 행을 선택할때, 이후에 해당 행에서 가장 숫자가 낮은 \n",
    "카드를 뽑을 것을 고려하여 최종적으로 가장 높은 숫자의 카드를 뽑을 수 있는 전략을 세워야함.\n",
    "\n",
    "'''\n",
    "\n",
    "# min()활용\n",
    "\n",
    "# 핵심 아이디어: 각 행마다 가장 작은 수를 찾은 뒤 그 수 중에서 가장 큰 수 찾기\n",
    "\n",
    "# 배운것:\n",
    "# 굳이 문제에서 제시한 형태의 그리드를 만들지 않아도됨\n",
    "# 현재 input()기반의 문제 풀이 과정을 보면 카드\n",
    "\n",
    "n, m = map(int, input().split())\n",
    "\n",
    "res = 0\n",
    "\n",
    "for i in range(n):\n",
    "    data = list(map(int, input().split()))\n",
    "    min_v = min(data)\n",
    "    res = max(res, min_v)\n",
    "    \n",
    "print(res)"
   ]
  },
  {
   "cell_type": "code",
   "execution_count": 2,
   "id": "59aea149",
   "metadata": {},
   "outputs": [
    {
     "name": "stdout",
     "output_type": "stream",
     "text": [
      "3 3\n",
      "3 1 2\n",
      "4 1 4\n",
      "2 2 2\n",
      "2\n"
     ]
    }
   ],
   "source": [
    "import math\n",
    "n, m = map(int, input().split())\n",
    "\n",
    "res = 0\n",
    "\n",
    "for i in range(n):\n",
    "    data = list(map(int, input().split()))\n",
    "    min_v = math.inf\n",
    "    for a in data:\n",
    "        min_v = min(min_v, a)\n",
    "    \n",
    "    res = max(res, min_v)\n",
    "    \n",
    "print(res)"
   ]
  },
  {
   "cell_type": "code",
   "execution_count": null,
   "id": "b18169eb",
   "metadata": {},
   "outputs": [],
   "source": []
  }
 ],
 "metadata": {
  "kernelspec": {
   "display_name": "Python 3 (ipykernel)",
   "language": "python",
   "name": "python3"
  },
  "language_info": {
   "codemirror_mode": {
    "name": "ipython",
    "version": 3
   },
   "file_extension": ".py",
   "mimetype": "text/x-python",
   "name": "python",
   "nbconvert_exporter": "python",
   "pygments_lexer": "ipython3",
   "version": "3.9.12"
  }
 },
 "nbformat": 4,
 "nbformat_minor": 5
}
