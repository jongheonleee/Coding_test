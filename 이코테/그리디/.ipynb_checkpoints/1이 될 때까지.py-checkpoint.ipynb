{
 "cells": [
  {
   "cell_type": "code",
   "execution_count": 5,
   "id": "0e8dc7b8",
   "metadata": {},
   "outputs": [
    {
     "name": "stdout",
     "output_type": "stream",
     "text": [
      "2\n",
      "3\n"
     ]
    }
   ],
   "source": [
    "'''\n",
    "N과 K가 주어질 때 N이 1이 될 때까지 1번 혹은 2번의 과정을 \n",
    "수행해야 하는 최소 횟수를 구하는 프로그래을 작성하시오\n",
    "\n",
    "-1. N에서 1을 뺀다\n",
    "-2. N을 K로 나눈다(단, N이 K로 나누어떨어질 때만 선택 가능)\n",
    "'''\n",
    "\n",
    "# Alg\n",
    "# -1. make a variable which can store how many step i take untill N == 1\n",
    "# -2. best way is that appling for second option as many as i can\n",
    "\n",
    "def sol(n:int, k:int) -> int:\n",
    "    # it's going to return cnt\n",
    "    cnt = 0\n",
    "    \n",
    "    while n != 1:\n",
    "        if n % k == 0:\n",
    "            n = n // k\n",
    "            \n",
    "        else:\n",
    "            n -= 1\n",
    "            \n",
    "        cnt += 1\n",
    "        \n",
    "    return cnt\n",
    "\n",
    "print(sol(25, 5))\n",
    "print(sol(17, 4))\n",
    "            \n",
    "            "
   ]
  },
  {
   "cell_type": "code",
   "execution_count": 6,
   "id": "744e8b8c",
   "metadata": {},
   "outputs": [
    {
     "name": "stdout",
     "output_type": "stream",
     "text": [
      "25 3\n",
      "6\n"
     ]
    }
   ],
   "source": [
    "# main idea: try to divide N as many as i can!!\n",
    "# simple way to handle with this problem\n",
    "\n",
    "n, k = map(int, input().split())\n",
    "res = 0\n",
    "\n",
    "while n >= k:\n",
    "    while n % k != 0:\n",
    "        n -= 1\n",
    "        res += 1\n",
    "        \n",
    "    n //= k\n",
    "    res += 1\n",
    "    \n",
    "while n > 1:\n",
    "    n -= 1\n",
    "    res += 1\n",
    "    \n",
    "print(res)"
   ]
  },
  {
   "cell_type": "code",
   "execution_count": 7,
   "id": "c1eb32d7",
   "metadata": {},
   "outputs": [
    {
     "name": "stdout",
     "output_type": "stream",
     "text": [
      "17 4\n",
      "3\n"
     ]
    }
   ],
   "source": [
    "# optimize above code\n",
    "n, k = map(int, input().split())\n",
    "res = 0\n",
    "\n",
    "while 1:\n",
    "    # repeat subtrack 1 \n",
    "    # on n(=target) untill it's equal a num which can be devide by k(n==k)\n",
    "    target = (n//k) * k\n",
    "    res += (n - target)\n",
    "    n = target\n",
    "    # if under case, i can devide n by k\n",
    "    if n < k:\n",
    "        break\n",
    "    \n",
    "    # devide n by k\n",
    "    res += 1\n",
    "    n //= k\n",
    "    \n",
    "res += (n-1)\n",
    "print(res)"
   ]
  },
  {
   "cell_type": "code",
   "execution_count": null,
   "id": "d9af66e4",
   "metadata": {},
   "outputs": [],
   "source": []
  }
 ],
 "metadata": {
  "kernelspec": {
   "display_name": "Python 3 (ipykernel)",
   "language": "python",
   "name": "python3"
  },
  "language_info": {
   "codemirror_mode": {
    "name": "ipython",
    "version": 3
   },
   "file_extension": ".py",
   "mimetype": "text/x-python",
   "name": "python",
   "nbconvert_exporter": "python",
   "pygments_lexer": "ipython3",
   "version": "3.9.12"
  }
 },
 "nbformat": 4,
 "nbformat_minor": 5
}
