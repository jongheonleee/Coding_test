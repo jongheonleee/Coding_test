{
 "cells": [
  {
   "cell_type": "markdown",
   "id": "dd884ff4",
   "metadata": {},
   "source": [
    "<h1>Two way to represente Graph in programming</h1>\n",
    "\n",
    "<h3>Adjacency Matrix: 인접 행렬</h3>\n",
    "<h3>Adjacency List: 인접 리스트</h3>\n"
   ]
  },
  {
   "cell_type": "code",
   "execution_count": 1,
   "id": "1b48ac93",
   "metadata": {},
   "outputs": [
    {
     "name": "stdout",
     "output_type": "stream",
     "text": [
      "[[0, 7, 5], [7, 0, inf], [5, inf, 0]]\n"
     ]
    }
   ],
   "source": [
    "# Adjacency Matrix(인접 행렬)\n",
    "import math\n",
    "\n",
    "INF = math.inf\n",
    "\n",
    "graph = [\n",
    "    [0, 7, 5],\n",
    "    [7, 0, INF],\n",
    "    [5, INF, 0]\n",
    "]\n",
    "\n",
    "print(graph)\n",
    "\n",
    "# 행렬의 인덱스(0, 1, 2) 각각이 노드 이름 그리고 행렬안에 값들은 노드 간의 이동시 발생하는 가중치 값(거리)\n",
    "# INF는 서로 연결되어 있지 않은 노드임, 즉 이동할 수 없음을 의미함"
   ]
  },
  {
   "cell_type": "code",
   "execution_count": 3,
   "id": "d9b1c98c",
   "metadata": {},
   "outputs": [
    {
     "name": "stdout",
     "output_type": "stream",
     "text": [
      "[[(1, 7), (2, 5)], [(0, 7)], [(0, 5)]]\n"
     ]
    },
    {
     "data": {
      "text/plain": [
       "'\\n차이점\\n            \\n<메모리 측면> \\n- 인접 행렬 방식은 모든 관계를 저장하므로 노드 개수가 많을수록\\n비효율적임 \\n\\n- 인접 리스트 방식은 연결된 정보만을 저장하므로 효율적임\\n\\n<속도 측면>\\n- 인접 리스트 방식은 인접 행렬 방식에 비해 특정한 두 노드가 연결되어 있는지에\\n대한 정보를 얻는 속도가 느림\\n\\n- 연결된 데이터를 하나씩 순회해야함(링크드 리스트에 단점)\\n'"
      ]
     },
     "execution_count": 3,
     "metadata": {},
     "output_type": "execute_result"
    }
   ],
   "source": [
    "# Adjacency List(인접 리스트)\n",
    "graph = [[] for _ in range(3)]\n",
    "\n",
    "# 노드 0에 연결된 노드 정보 저장(노드, 거리)\n",
    "graph[0].append((1, 7))\n",
    "graph[0].append((2, 5))\n",
    "\n",
    "# 노드 1\n",
    "graph[1].append((0, 7))\n",
    "\n",
    "# 노드 2\n",
    "graph[2].append((0, 5))\n",
    "\n",
    "print(graph)\n",
    "\n",
    "\n",
    "'''\n",
    "차이점\n",
    "            \n",
    "<메모리 측면> \n",
    "- 인접 행렬 방식은 모든 관계를 저장하므로 노드 개수가 많을수록\n",
    "비효율적임 \n",
    "\n",
    "- 인접 리스트 방식은 연결된 정보만을 저장하므로 효율적임\n",
    "\n",
    "<속도 측면>\n",
    "- 인접 리스트 방식은 인접 행렬 방식에 비해 특정한 두 노드가 연결되어 있는지에\n",
    "대한 정보를 얻는 속도가 느림\n",
    "\n",
    "- 연결된 데이터를 하나씩 순회해야함(링크드 리스트에 단점)\n",
    "'''"
   ]
  },
  {
   "cell_type": "code",
   "execution_count": 5,
   "id": "43e60e70",
   "metadata": {},
   "outputs": [
    {
     "name": "stdout",
     "output_type": "stream",
     "text": [
      "1->2->7->6->8->3->4->5->"
     ]
    }
   ],
   "source": [
    "# DFS 재귀적 표현\n",
    "\n",
    "def dfs(graph, v, visited):\n",
    "    visited[v] = 1\n",
    "    print(v, end='->')\n",
    "    \n",
    "    for i in graph[v]:\n",
    "        if not visited[i]:\n",
    "            dfs(graph, i, visited)\n",
    "            \n",
    "graph = [\n",
    "    [],\n",
    "    [2, 3, 8],\n",
    "    [1, 7],\n",
    "    [1, 4, 5],\n",
    "    [3, 5],\n",
    "    [3, 4],\n",
    "    [7],\n",
    "    [2, 6, 8],\n",
    "    [1, 7]\n",
    "]\n",
    "\n",
    "visited = [False] * 9\n",
    "\n",
    "dfs(graph, 1, visited)"
   ]
  },
  {
   "cell_type": "code",
   "execution_count": 11,
   "id": "bfa118af",
   "metadata": {},
   "outputs": [
    {
     "data": {
      "text/plain": [
       "'1>2>7>6>8>3>4>5>'"
      ]
     },
     "execution_count": 11,
     "metadata": {},
     "output_type": "execute_result"
    }
   ],
   "source": [
    "# dfs by stack\n",
    "def dfs(graph):\n",
    "    start_node = -1\n",
    "    res = ''\n",
    "    \n",
    "    for idx, node in enumerate(graph):\n",
    "        if len(node) != 0:\n",
    "            start_node = idx\n",
    "            break\n",
    "            \n",
    "    need_visited, visited = [], []\n",
    "    \n",
    "    need_visited.append(start_node)\n",
    "    \n",
    "    while need_visited:\n",
    "        node = need_visited.pop()\n",
    "        \n",
    "        if node not in visited:\n",
    "            visited.append(node)\n",
    "            res += str(node) + '>'\n",
    "            # note\n",
    "            # consider now you used stack for representing dfs\n",
    "            # so that you have to remember it's work as LIFO\n",
    "            need_visited.extend(graph[node][::-1])\n",
    "            \n",
    "            \n",
    "    return res\n",
    "\n",
    "dfs(graph)\n",
    "            \n",
    "                        "
   ]
  },
  {
   "cell_type": "code",
   "execution_count": 13,
   "id": "c0478391",
   "metadata": {},
   "outputs": [
    {
     "name": "stdout",
     "output_type": "stream",
     "text": [
      "1->2->3->8->7->4->5->6->"
     ]
    }
   ],
   "source": [
    "# bfs by queue\n",
    "from collections import deque\n",
    "\n",
    "def bfs(graph, start, visited):\n",
    "    q = deque([start])\n",
    "    \n",
    "    visited[start] = 1\n",
    "    \n",
    "    while q:\n",
    "        v = q.popleft()\n",
    "        print(v, end='->')\n",
    "        \n",
    "        for i in graph[v]:\n",
    "            if not visited[i]:\n",
    "                q.append(i)\n",
    "                visited[i] = 1\n",
    "                \n",
    "visited = [False] * 9\n",
    "bfs(graph, 1, visited)"
   ]
  },
  {
   "cell_type": "markdown",
   "id": "1b56688f",
   "metadata": {},
   "source": [
    "동작 원리\n",
    "DFS; 스택\n",
    "BFS; 큐\n",
    "\n",
    "구현 방법\n",
    "DFS; 재귀 함수, 스택\n",
    "BFS; 큐 "
   ]
  }
 ],
 "metadata": {
  "kernelspec": {
   "display_name": "Python 3 (ipykernel)",
   "language": "python",
   "name": "python3"
  },
  "language_info": {
   "codemirror_mode": {
    "name": "ipython",
    "version": 3
   },
   "file_extension": ".py",
   "mimetype": "text/x-python",
   "name": "python",
   "nbconvert_exporter": "python",
   "pygments_lexer": "ipython3",
   "version": "3.9.12"
  }
 },
 "nbformat": 4,
 "nbformat_minor": 5
}
