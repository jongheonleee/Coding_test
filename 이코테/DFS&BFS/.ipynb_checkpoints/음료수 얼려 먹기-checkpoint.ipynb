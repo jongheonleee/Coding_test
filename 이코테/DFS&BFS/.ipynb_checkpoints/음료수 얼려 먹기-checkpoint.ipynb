{
 "cells": [
  {
   "cell_type": "code",
   "execution_count": 2,
   "id": "3f6a2530",
   "metadata": {},
   "outputs": [
    {
     "name": "stdout",
     "output_type": "stream",
     "text": [
      "4 5\n",
      "0 0 1 1 0\n",
      "0 0 0 1 1\n",
      "1 1 1 1 1\n",
      "0 0 0 0 0\n",
      "3\n"
     ]
    }
   ],
   "source": [
    "n, m = map(int, input().split())\n",
    "\n",
    "matrix = [list(map(int, input().split())) for _ in range(n)]\n",
    "cnt = 0\n",
    "\n",
    "def dfs(r:int, c:int, cnt: int) -> int:\n",
    "    # 이동 방향 right, up(actually down)\n",
    "    # so that i dont need to make the full range \n",
    "    if r >= len(matrix) or c >= len(matrix[0]):\n",
    "#     if r >= len(matrix) or r < 0 or c >= len(matrix[0]) or c < 0:\n",
    "        return\n",
    "    \n",
    "    if matrix[r][c] == 1 or matrix[r][c] == '#':\n",
    "        return \n",
    "    \n",
    "    matrix[r][c] = '#'\n",
    "    \n",
    "#     dfs(r-1, c-1, cnt)\n",
    "#     dfs(r-1, c, cnt)\n",
    "#     dfs(r-1, c+1, cnt)\n",
    "#     dfs(r, c+1, cnt)\n",
    "#     dfs(r+1, c+1, cnt)\n",
    "#     dfs(r+1, c, cnt)\n",
    "#     dfs(r+1, c-1, cnt)\n",
    "#     dfs(r, c-1, cnt)\n",
    "    dfs(r+1, c, cnt)\n",
    "    dfs(r, c+1, cnt)\n",
    "    \n",
    "    \n",
    "for i in range(n):\n",
    "    for j in range(m):\n",
    "        if matrix[i][j] == 0:\n",
    "            cnt += 1\n",
    "            dfs(i, j, cnt)\n",
    "            \n",
    "print(cnt)"
   ]
  },
  {
   "cell_type": "code",
   "execution_count": 12,
   "id": "b1a58dbf",
   "metadata": {},
   "outputs": [
    {
     "name": "stdout",
     "output_type": "stream",
     "text": [
      "4 5 \n",
      "0 0 1 1 0\n",
      "0 0 0 1 1\n",
      "1 1 1 1 1\n",
      "0 0 0 0 0\n",
      "3\n"
     ]
    }
   ],
   "source": [
    "n, m = map(int, input().split())\n",
    "\n",
    "# first i have to know\n",
    "# consider graph\n",
    "graph = []\n",
    "for i in range(n):\n",
    "    graph.append(list(map(int, input().split())))\n",
    "    \n",
    "def dfs(y, x):\n",
    "    if y <= -1 or y >= n or x <= -1 or x >= m:\n",
    "        return False\n",
    "    \n",
    "    if graph[y][x] == 0:\n",
    "        graph[y][x] = 1\n",
    "        \n",
    "        # 이동방향 동서남북(4방향)\n",
    "        dfs(y-1, x)\n",
    "        dfs(y, x-1)\n",
    "        dfs(y+1, x)\n",
    "        dfs(y, x+1)\n",
    "        return True\n",
    "    return False\n",
    "\n",
    "res = 0\n",
    "for i in range(n):\n",
    "    for j in range(m):\n",
    "        if dfs(i, j) == True:\n",
    "            res += 1\n",
    "            \n",
    "print(res)"
   ]
  },
  {
   "cell_type": "markdown",
   "id": "5789b140",
   "metadata": {},
   "source": [
    "# 궁금한 점!\n",
    "\n",
    "> 1. 이동방향을 동서남북 4방향으로 하는 것보다 오른쪽(col += 1) 위(row += 1) 2방향으로 이동하는 게 효율적이지 않음??\n",
    "     일단 한번 시도 ㄱㄱ\n",
    "\n",
    "> 2. graph에 있는 모든 노드(원소)들을 일일이 dfs로 탐색하기 보다는 기존에 탐색했던 경로에 포함되는 노드들은 건너뛰는 방법\n",
    "     은 어떻게 해야할까?? 마킹!!"
   ]
  },
  {
   "cell_type": "code",
   "execution_count": 11,
   "id": "c7daba65",
   "metadata": {},
   "outputs": [
    {
     "name": "stdout",
     "output_type": "stream",
     "text": [
      "4 5\n",
      "0 0 1 1 0\n",
      "0 0 0 1 1 \n",
      "1 1 1 1 1\n",
      "0 0 0 0 0\n",
      "3\n",
      "[['#', '#', 1, 1, '#'], ['#', '#', '#', 1, 1], [1, 1, 1, 1, 1], ['#', '#', '#', '#', '#']]\n"
     ]
    }
   ],
   "source": [
    "'''\n",
    "효율성 확보\n",
    "> 1. 2방향으로 dfs이동\n",
    "> 2. 마킹 작업으로 기존에 탐색경로에 포함되는 노드는 탐색x\n",
    "'''\n",
    "\n",
    "# row = n, col = m\n",
    "n, m = map(int, input().split())\n",
    "\n",
    "graph = []\n",
    "for _ in range(n):\n",
    "    graph.append(list(map(int, input().split())))\n",
    "\n",
    "def dfs(y, x):\n",
    "    if y >= n or x >= m:\n",
    "        return False\n",
    "    \n",
    "    if graph[y][x] == 0:\n",
    "        graph[y][x] = '#'\n",
    "    \n",
    "        dfs(y+1, x)\n",
    "        dfs(y, x+1)\n",
    "    \n",
    "    return True\n",
    "\n",
    "cnt = 0\n",
    "for i in range(n):\n",
    "    for j in range(m):\n",
    "        if graph[i][j] == 0:\n",
    "            cnt += 1\n",
    "            dfs(i, j)\n",
    "            \n",
    "print(cnt)"
   ]
  },
  {
   "cell_type": "code",
   "execution_count": null,
   "id": "b6d5ba8f",
   "metadata": {},
   "outputs": [],
   "source": []
  }
 ],
 "metadata": {
  "kernelspec": {
   "display_name": "Python 3 (ipykernel)",
   "language": "python",
   "name": "python3"
  },
  "language_info": {
   "codemirror_mode": {
    "name": "ipython",
    "version": 3
   },
   "file_extension": ".py",
   "mimetype": "text/x-python",
   "name": "python",
   "nbconvert_exporter": "python",
   "pygments_lexer": "ipython3",
   "version": "3.9.12"
  }
 },
 "nbformat": 4,
 "nbformat_minor": 5
}
