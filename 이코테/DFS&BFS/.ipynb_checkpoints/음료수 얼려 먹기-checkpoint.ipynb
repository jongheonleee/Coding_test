{
 "cells": [
  {
   "cell_type": "code",
   "execution_count": 8,
   "id": "3f6a2530",
   "metadata": {},
   "outputs": [
    {
     "name": "stdout",
     "output_type": "stream",
     "text": [
      "4 5 \n",
      "0 0 1 1 0\n",
      "0 0 0 1 1\n",
      "1 1 1 1 1\n",
      "0 0 0 0 0\n",
      "3\n"
     ]
    }
   ],
   "source": [
    "n, m = map(int, input().split())\n",
    "\n",
    "matrix = [list(map(int, input().split())) for _ in range(n)]\n",
    "cnt = 0\n",
    "\n",
    "def dfs(r:int, c:int, cnt: int) -> int:\n",
    "    if r >= len(matrix) or r < 0 or c >= len(matrix[0]) or c < 0:\n",
    "        return\n",
    "    \n",
    "    if matrix[r][c] == 1 or matrix[r][c] == '#':\n",
    "        return \n",
    "    \n",
    "    matrix[r][c] = '#'\n",
    "    \n",
    "    dfs(r-1, c-1, cnt)\n",
    "    dfs(r-1, c, cnt)\n",
    "    dfs(r-1, c+1, cnt)\n",
    "    dfs(r, c+1, cnt)\n",
    "    dfs(r+1, c+1, cnt)\n",
    "    dfs(r+1, c, cnt)\n",
    "    dfs(r+1, c-1, cnt)\n",
    "    dfs(r, c-1, cnt)\n",
    "    \n",
    "for i in range(n):\n",
    "    for j in range(m):\n",
    "        if matrix[i][j] == 0:\n",
    "            cnt += 1\n",
    "            dfs(i, j, cnt)\n",
    "            \n",
    "print(cnt)"
   ]
  },
  {
   "cell_type": "code",
   "execution_count": 12,
   "id": "b1a58dbf",
   "metadata": {},
   "outputs": [
    {
     "name": "stdout",
     "output_type": "stream",
     "text": [
      "4 5 \n",
      "0 0 1 1 0\n",
      "0 0 0 1 1\n",
      "1 1 1 1 1\n",
      "0 0 0 0 0\n",
      "3\n"
     ]
    }
   ],
   "source": [
    "n, m = map(int, input().split())\n",
    "\n",
    "graph = []\n",
    "for i in range(n):\n",
    "    graph.append(list(map(int, input().split())))\n",
    "    \n",
    "def dfs(y, x):\n",
    "    if y <= -1 or y >= n or x <= -1 or x >= m:\n",
    "        return False\n",
    "    \n",
    "    if graph[y][x] == 0:\n",
    "        graph[y][x] = 1\n",
    "        \n",
    "        dfs(y-1, x)\n",
    "        dfs(y, x-1)\n",
    "        dfs(y+1, x)\n",
    "        dfs(y, x+1)\n",
    "        return True\n",
    "    return False\n",
    "\n",
    "res = 0\n",
    "for i in range(n):\n",
    "    for j in range(m):\n",
    "        if dfs(i, j) == True:\n",
    "            res += 1\n",
    "            \n",
    "print(res)"
   ]
  },
  {
   "cell_type": "code",
   "execution_count": null,
   "id": "1679e7f5",
   "metadata": {},
   "outputs": [],
   "source": [
    "'''\n",
    "리뷰 필요함...\n",
    "'''"
   ]
  }
 ],
 "metadata": {
  "kernelspec": {
   "display_name": "Python 3 (ipykernel)",
   "language": "python",
   "name": "python3"
  },
  "language_info": {
   "codemirror_mode": {
    "name": "ipython",
    "version": 3
   },
   "file_extension": ".py",
   "mimetype": "text/x-python",
   "name": "python",
   "nbconvert_exporter": "python",
   "pygments_lexer": "ipython3",
   "version": "3.9.12"
  }
 },
 "nbformat": 4,
 "nbformat_minor": 5
}
