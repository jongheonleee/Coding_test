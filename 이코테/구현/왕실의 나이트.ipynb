{
 "cells": [
  {
   "cell_type": "code",
   "execution_count": 3,
   "id": "21b0a06b",
   "metadata": {},
   "outputs": [
    {
     "name": "stdout",
     "output_type": "stream",
     "text": [
      "a1\n",
      "2\n"
     ]
    }
   ],
   "source": [
    "# 왕실의 나이트\n",
    "\n",
    "input_data = input()\n",
    "\n",
    "r = int(input_data[1])\n",
    "c = int(ord(input_data[0])) - int(ord('a')) + 1\n",
    "\n",
    "steps = [(2, 1), (-2, 1), (2, -1), (-2, -1), (1, 2), (1, -2), (-1, 2), (-1, -2)]\n",
    "\n",
    "cnt = 0\n",
    "for s in steps:\n",
    "    next_r = r + s[0]\n",
    "    next_c = r + s[1]\n",
    "    if next_r >= 1 and next_r <= 8 and next_c >= 1 and next_c <= 8:\n",
    "        cnt += 1\n",
    "        \n",
    "print(cnt)"
   ]
  },
  {
   "cell_type": "code",
   "execution_count": null,
   "id": "83a9840d",
   "metadata": {},
   "outputs": [],
   "source": []
  }
 ],
 "metadata": {
  "kernelspec": {
   "display_name": "Python 3 (ipykernel)",
   "language": "python",
   "name": "python3"
  },
  "language_info": {
   "codemirror_mode": {
    "name": "ipython",
    "version": 3
   },
   "file_extension": ".py",
   "mimetype": "text/x-python",
   "name": "python",
   "nbconvert_exporter": "python",
   "pygments_lexer": "ipython3",
   "version": "3.9.12"
  }
 },
 "nbformat": 4,
 "nbformat_minor": 5
}
