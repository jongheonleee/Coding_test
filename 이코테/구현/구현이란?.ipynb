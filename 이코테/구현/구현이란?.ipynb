{
 "cells": [
  {
   "cell_type": "code",
   "execution_count": 1,
   "id": "1fa12d8b",
   "metadata": {},
   "outputs": [
    {
     "name": "stdout",
     "output_type": "stream",
     "text": [
      "5\n",
      "R R R U D D\n",
      "3 4\n"
     ]
    }
   ],
   "source": [
    "'''\n",
    "구현: 머릿속에 있는 알고리즘을 소스코드로 바꾸는 과정\n",
    "\n",
    "- 해당 언어에 대한 이해도와 숙련도 요구(라이브러리, 특징)\n",
    "- 크기가 1000만 이상인 리스트가 있다면 메모리 용량 제한으로 문제를 못 품(파이썬)\n",
    "- 파이썬은 다른 전통 언어에 비해 속도가 느린편\n",
    "- Pypy3 지원하면 사용하자\n",
    "- 알고리즘 문제와 별개로 웹 서버나 데이터 분석에 대한 기초가 요구(API 개발 문제)\n",
    "'''\n",
    "\n",
    "# 상하좌우\n",
    "\n",
    "'''\n",
    "여행가 A가 n * n 정사각형 공간에 서 있음(1, 1)\n",
    "\n",
    "- L 왼쪽 \n",
    "- R 오른쪽\n",
    "- U 위\n",
    "- D 아래\n",
    "(한칸씩)\n",
    "\n",
    "단, 정사각형 공간을 벗어나는 움직임은 무시함.\n",
    "'''\n",
    "\n",
    "n = int(input())\n",
    "x, y = 1, 1\n",
    "plans = input().split()\n",
    "\n",
    "# 좌표형태 (y, x)\n",
    "# y축 좌우 x축 상하\n",
    "dx = [0, 0, -1, 1]\n",
    "dy = [-1, 1, 0, 0]\n",
    "\n",
    "move_to = ['L', 'R', 'U', 'D']\n",
    "\n",
    "for p in plans:\n",
    "    for i in range(len(move_to)):\n",
    "        if p == move_to[i]:\n",
    "            nx = x + dx[i]\n",
    "            ny = y + dy[i]\n",
    "            \n",
    "    if nx < 1 or ny < 1 or nx > n or ny > n:\n",
    "        continue\n",
    "        \n",
    "    x, y = nx, ny\n",
    "    \n",
    "print(x, y)"
   ]
  },
  {
   "cell_type": "code",
   "execution_count": 1,
   "id": "95b372a6",
   "metadata": {},
   "outputs": [
    {
     "name": "stdout",
     "output_type": "stream",
     "text": [
      "5\n",
      "11475\n"
     ]
    }
   ],
   "source": [
    "# 시각\n",
    "\n",
    "h = int(input())\n",
    "\n",
    "cnt = 0\n",
    "\n",
    "for i in range(h+1):\n",
    "    for j in range(60):\n",
    "        for z in range(60):\n",
    "            if '3' in str(i) + str(j) + str(z):\n",
    "                cnt += 1\n",
    "                \n",
    "print(cnt)"
   ]
  },
  {
   "cell_type": "code",
   "execution_count": 3,
   "id": "01b20dbd",
   "metadata": {},
   "outputs": [
    {
     "name": "stdout",
     "output_type": "stream",
     "text": [
      "a1\n",
      "2\n"
     ]
    }
   ],
   "source": []
  },
  {
   "cell_type": "code",
   "execution_count": null,
   "id": "8f667c12",
   "metadata": {},
   "outputs": [],
   "source": []
  }
 ],
 "metadata": {
  "kernelspec": {
   "display_name": "Python 3 (ipykernel)",
   "language": "python",
   "name": "python3"
  },
  "language_info": {
   "codemirror_mode": {
    "name": "ipython",
    "version": 3
   },
   "file_extension": ".py",
   "mimetype": "text/x-python",
   "name": "python",
   "nbconvert_exporter": "python",
   "pygments_lexer": "ipython3",
   "version": "3.9.12"
  }
 },
 "nbformat": 4,
 "nbformat_minor": 5
}
