{
 "cells": [
  {
   "cell_type": "markdown",
   "id": "a858546e",
   "metadata": {},
   "source": [
    "# 이진 탐색\n",
    "\n",
    " > 탐색 범위를 반씩 좁혀가는 탐색법\n",
    " "
   ]
  },
  {
   "cell_type": "code",
   "execution_count": 1,
   "id": "c0890243",
   "metadata": {},
   "outputs": [
    {
     "name": "stdout",
     "output_type": "stream",
     "text": [
      "생성할 원소 개수를 입력한 다음 한 칸 띄고 찾을 문자열을 입력하세여\n",
      "5 A\n",
      "앞서 적은 원소 개수만큼 문자열을 입력하세요, 구분은 띄어쓰기 한 칸으로 합니다!!\n",
      "D F S G A\n",
      "5\n"
     ]
    }
   ],
   "source": [
    "'''\n",
    "순차 탐색\n",
    "\n",
    "> 1. 가장 기본 탐색법\n",
    "> 2. 리스트 안에 있는 특정한 데이터를 찾기 위해\n",
    "     데이터를 하나씩 차례대로 확인하는 방법\n",
    "'''\n",
    "\n",
    "def sequential_search(n, target, array):\n",
    "    # 각 원소를 하나씩 확인\n",
    "    for i in range(n):\n",
    "        if array[i] == target:\n",
    "            return i + 1 # 현재의 위치 반환\n",
    "        \n",
    "print(\"생성할 원소 개수를 입력한 다음 한 칸 띄고 찾을 문자열을 입력하세여\")\n",
    "input_data = input().split()\n",
    "n = int(input_data[0])\n",
    "target = input_data[1]\n",
    "\n",
    "print('앞서 적은 원소 개수만큼 문자열을 입력하세요, 구분은 띄어쓰기 한 칸으로 합니다!!')\n",
    "array = input().split()\n",
    "\n",
    "# 순차 탐색\n",
    "print(sequential_search(n, target, array))"
   ]
  },
  {
   "cell_type": "markdown",
   "id": "b370954d",
   "metadata": {},
   "source": [
    "시간복잡도: O(N)"
   ]
  },
  {
   "cell_type": "markdown",
   "id": "68ccfdf2",
   "metadata": {},
   "source": [
    "# 이진 탐색\n",
    " > 반으로 쪼개면서 탐색하기"
   ]
  },
  {
   "cell_type": "code",
   "execution_count": 3,
   "id": "90fda60f",
   "metadata": {},
   "outputs": [
    {
     "name": "stdout",
     "output_type": "stream",
     "text": [
      "10 7\n",
      "1 3 5 7 9 11 13 15 17 19\n",
      "4\n"
     ]
    }
   ],
   "source": [
    "'''\n",
    "이진 탐색\n",
    "\n",
    "> 1. 전제 조건: 배열 내부 정렬(사용전)\n",
    "> 2. 변수 3개; 시작점, 중간점, 끝점\n",
    "> 3. 찾으려는 데이터와 중간점 위치의 값을 반복적으로 비교\n",
    "> 4. 이진 탐색은 한번 확인할때마다 확인하는 원소의 개수가 절반씩 줄어듦(O(logN))\n",
    "     즉, 단계마다 2로 나누는 것과 동일하므로 연산횟수는 logN\n",
    "'''\n",
    "\n",
    "\n",
    "# 1. 재귀함수를 통해서 구현한 이진 탐색\n",
    "\n",
    "def binary_search(arr, target, start, end):\n",
    "    if start > end:\n",
    "        return None\n",
    "    \n",
    "    mid = (start + end) // 2\n",
    "    \n",
    "    if arr[mid] == target:\n",
    "        return mid\n",
    "    \n",
    "    elif arr[mid] > target:\n",
    "        return binary_search(arr, target, start, mid-1)\n",
    "    \n",
    "    else:\n",
    "        return binary_search(arr, target, mid+1, end)\n",
    "    \n",
    "    \n",
    "n, target = list(map(int, input().split()))\n",
    "    \n",
    "arr = list(map(int, input().split()))\n",
    "    \n",
    "res = binary_search(arr, target, 0, n-1)\n",
    "if res == None:\n",
    "    print('원소가 존재하지 않습니다')\n",
    "        \n",
    "else:\n",
    "    print(res+1)\n",
    "        \n",
    "    \n"
   ]
  },
  {
   "cell_type": "code",
   "execution_count": 4,
   "id": "a2ad1a9a",
   "metadata": {},
   "outputs": [
    {
     "name": "stdout",
     "output_type": "stream",
     "text": [
      "10 7\n",
      "1 3 5 7 9 11 13 15 17 19\n",
      "4\n"
     ]
    }
   ],
   "source": [
    "# 2. 반복문으로 구현한 이진 탐색\n",
    "\n",
    "def binary_search(arr, target, start, end):\n",
    "    while start <= end:\n",
    "        mid = (start + end) // 2\n",
    "        \n",
    "        if arr[mid] == target:\n",
    "            return mid\n",
    "        \n",
    "        elif arr[mid] > target:\n",
    "            end = mid - 1\n",
    "            \n",
    "        else:\n",
    "            start = mid + 1\n",
    "            \n",
    "    return None\n",
    "\n",
    "n, target = list(map(int, input().split()))\n",
    "arr = list(map(int, input().split()))\n",
    "\n",
    "res = binary_search(arr, target, 0, n-1)\n",
    "if res == None:\n",
    "    print('원소가 존재하지 않습니다')\n",
    "    \n",
    "else:\n",
    "    print(res+1)\n",
    "    "
   ]
  },
  {
   "cell_type": "markdown",
   "id": "9310ca2a",
   "metadata": {},
   "source": [
    "# 이진 탐색 트리\n",
    "\n",
    " > - 이진 탐색이 동작 할 수 있도록 고안된, 효율적인 탐색이 가능한 자료구조<br>\n",
    " > - 대용량 데이터를 처리 할때 주로 사용하는 고마운 자료구조<br>\n",
    " > - ***<b>왼쪽 자식 노드(왼쪽 서브 트리) < 부모 노드 < 오른쪽 자식 노드(오른쪽 서브 트리)</b> "
   ]
  },
  {
   "cell_type": "code",
   "execution_count": 8,
   "id": "3f0963b1",
   "metadata": {},
   "outputs": [
    {
     "name": "stdout",
     "output_type": "stream",
     "text": [
      "\n"
     ]
    }
   ],
   "source": [
    "# 빠르게 입력받기\n",
    "\n",
    "'''\n",
    "입력 데이터의 개수가 많은 문제에 input()함수를 사용하면\n",
    "동작 속도가 느려서 오답 판정을 받을 수 있음\n",
    "\n",
    "아래 부분은 외울 필요가 있음!!\n",
    "'''\n",
    "\n",
    "import sys\n",
    "\n",
    "input_data = sys.stdin.readline().rstrip()\n",
    "print(input_data)\n"
   ]
  },
  {
   "cell_type": "code",
   "execution_count": null,
   "id": "7e8fa5a5",
   "metadata": {},
   "outputs": [],
   "source": []
  }
 ],
 "metadata": {
  "kernelspec": {
   "display_name": "Python 3 (ipykernel)",
   "language": "python",
   "name": "python3"
  },
  "language_info": {
   "codemirror_mode": {
    "name": "ipython",
    "version": 3
   },
   "file_extension": ".py",
   "mimetype": "text/x-python",
   "name": "python",
   "nbconvert_exporter": "python",
   "pygments_lexer": "ipython3",
   "version": "3.9.12"
  }
 },
 "nbformat": 4,
 "nbformat_minor": 5
}
