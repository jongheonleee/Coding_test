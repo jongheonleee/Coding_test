{
 "cells": [
  {
   "cell_type": "code",
   "execution_count": 2,
   "id": "70c629eb",
   "metadata": {},
   "outputs": [
    {
     "name": "stdout",
     "output_type": "stream",
     "text": [
      "5 3\n",
      "1 2 5 4 3\n",
      "5 5 6 6 5\n",
      "26\n"
     ]
    }
   ],
   "source": [
    "'''\n",
    "정확하지 않음\n",
    "'''\n",
    "n, k = map(int, input().split())\n",
    "\n",
    "A = list(map(int, input().split()))\n",
    "B = list(map(int, input().split()))\n",
    "\n",
    "B.sort(reverse=True)\n",
    "A.sort()\n",
    "\n",
    "for i in range(k):\n",
    "    A[i], B[i] = B[i], A[i]\n",
    "    \n",
    "print(sum(A))"
   ]
  },
  {
   "cell_type": "code",
   "execution_count": 3,
   "id": "4e81ef43",
   "metadata": {},
   "outputs": [
    {
     "name": "stdout",
     "output_type": "stream",
     "text": [
      "5 3\n",
      "1 2 5 4 3\n",
      "5 5 6 6 5\n",
      "26\n"
     ]
    }
   ],
   "source": [
    "n, k = map(int, input().split())\n",
    "\n",
    "A = list(map(int, input().split()))\n",
    "B = list(map(int, input().split()))\n",
    "\n",
    "B.sort(reverse=True)\n",
    "A.sort()\n",
    "\n",
    "for i in range(k):\n",
    "    # A의 원소가 B원소보다 작은 경우에만 스왑해주기\n",
    "    if A[i] < B[i]:\n",
    "        A[i], B[i] = B[i], A[i]\n",
    "      \n",
    "    # 굳이 스왑을 더 이상 진행안해도됌!!\n",
    "    else:\n",
    "        break\n",
    "    \n",
    "print(sum(A))"
   ]
  },
  {
   "cell_type": "code",
   "execution_count": null,
   "id": "89e43245",
   "metadata": {},
   "outputs": [],
   "source": []
  }
 ],
 "metadata": {
  "kernelspec": {
   "display_name": "Python 3 (ipykernel)",
   "language": "python",
   "name": "python3"
  },
  "language_info": {
   "codemirror_mode": {
    "name": "ipython",
    "version": 3
   },
   "file_extension": ".py",
   "mimetype": "text/x-python",
   "name": "python",
   "nbconvert_exporter": "python",
   "pygments_lexer": "ipython3",
   "version": "3.9.12"
  }
 },
 "nbformat": 4,
 "nbformat_minor": 5
}
