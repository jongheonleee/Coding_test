{
 "cells": [
  {
   "cell_type": "markdown",
   "id": "416a2ce1",
   "metadata": {},
   "source": [
    "# 파이썬 정렬 라이브러리\n",
    "<br>\n",
    "> 1. O(nlogn)<br>\n",
    "> 2. 병합 정렬과 삽입정렬의 아이디어를 더한 하이브리드 방식(기본 전제 병합 정렬)"
   ]
  },
  {
   "cell_type": "code",
   "execution_count": 4,
   "id": "3a19371e",
   "metadata": {},
   "outputs": [
    {
     "name": "stdout",
     "output_type": "stream",
     "text": [
      "[0, 1, 2, 3, 4, 5, 6, 7, 8, 9]\n"
     ]
    }
   ],
   "source": [
    "arr1 = [7, 5, 9, 0, 3, 1, 6, 2, 4, 8]\n",
    "arr2 = arr1[:]\n",
    "\n",
    "res = sorted(arr1)\n",
    "print(res)"
   ]
  },
  {
   "cell_type": "code",
   "execution_count": 5,
   "id": "24a19815",
   "metadata": {},
   "outputs": [
    {
     "name": "stdout",
     "output_type": "stream",
     "text": [
      "[0, 1, 2, 3, 4, 5, 6, 7, 8, 9]\n"
     ]
    }
   ],
   "source": [
    "arr2.sort()\n",
    "\n",
    "print(arr2)"
   ]
  },
  {
   "cell_type": "code",
   "execution_count": 8,
   "id": "9432ddd3",
   "metadata": {},
   "outputs": [
    {
     "name": "stdout",
     "output_type": "stream",
     "text": [
      "[('바나나', 2), ('당근', 3), ('사과', 5)]\n"
     ]
    }
   ],
   "source": [
    "arr3 = [('바나나', 2), ('사과', 5), ('당근', 3)]\n",
    "\n",
    "def setting(data):\n",
    "    return data[1]\n",
    "\n",
    "\n",
    "# res_ = sorted(arr3, key= setting)\n",
    "res_ = sorted(arr3, key= lambda x: x[1])\n",
    "print(res_)"
   ]
  },
  {
   "cell_type": "code",
   "execution_count": null,
   "id": "85b38521",
   "metadata": {},
   "outputs": [],
   "source": []
  }
 ],
 "metadata": {
  "kernelspec": {
   "display_name": "Python 3 (ipykernel)",
   "language": "python",
   "name": "python3"
  },
  "language_info": {
   "codemirror_mode": {
    "name": "ipython",
    "version": 3
   },
   "file_extension": ".py",
   "mimetype": "text/x-python",
   "name": "python",
   "nbconvert_exporter": "python",
   "pygments_lexer": "ipython3",
   "version": "3.9.12"
  }
 },
 "nbformat": 4,
 "nbformat_minor": 5
}
