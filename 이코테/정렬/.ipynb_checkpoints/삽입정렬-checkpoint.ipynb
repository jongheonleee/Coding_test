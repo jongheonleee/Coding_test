{
 "cells": [
  {
   "cell_type": "markdown",
   "id": "08546d28",
   "metadata": {},
   "source": [
    "7 5 9 0 3 1 6 2 4 8 을 <b>오름차순</b>으로 정렬하기\n",
    "> 삽입정렬의 <b>핵심</b>:<br>\n",
    "    - <b>리스트 나누기</b>(왼쪽: 정렬되있다고 가정/ 오른쪽: 왼쪽 리스트에 추가할 대상 원소들)<br>\n",
    "    - 왼쪽 리스트 확장 (정렬 특성을 기준으로 확장)<br>\n",
    "    - 왼쪽 리스트의 마지막 원소(el)와 오른쪽 리스트의 첫번째 원소(er)를 비교<br>\n",
    "           - el < er: 뒤에 이어 붙이기<br>\n",
    "           - el > er: 왼쪽 리스트에서 <b>적절한 위치 찾기</b><br>\n",
    "           - * 적절한 위치를 찾기 위해서, 왼쪽 서브 리스트를 뒤에서부터 탐색함!!\n",
    "           \n",
    "    \n",
    "=>  <b>왼쪽 서브 리스트/ 오른쪽 서브 리스트, 비교, 적절한 위치 찾기(왼쪽 서브 리스트를 뒤에서부터 탐색)</b>"
   ]
  },
  {
   "cell_type": "code",
   "execution_count": 1,
   "id": "1ef6c478",
   "metadata": {},
   "outputs": [
    {
     "ename": "TypeError",
     "evalue": "unsupported operand type(s) for +: 'NoneType' and 'list'",
     "output_type": "error",
     "traceback": [
      "\u001b[0;31m---------------------------------------------------------------------------\u001b[0m",
      "\u001b[0;31mTypeError\u001b[0m                                 Traceback (most recent call last)",
      "Input \u001b[0;32mIn [1]\u001b[0m, in \u001b[0;36m<cell line: 22>\u001b[0;34m()\u001b[0m\n\u001b[1;32m     18\u001b[0m                     left \u001b[38;5;241m=\u001b[39m sub_left \u001b[38;5;241m+\u001b[39m sub_right \n\u001b[1;32m     20\u001b[0m     \u001b[38;5;28;01mreturn\u001b[39;00m left\n\u001b[0;32m---> 22\u001b[0m \u001b[38;5;28mprint\u001b[39m(\u001b[43minsertion_sort\u001b[49m\u001b[43m(\u001b[49m\u001b[43msub_left\u001b[49m\u001b[43m,\u001b[49m\u001b[43m \u001b[49m\u001b[43msub_right\u001b[49m\u001b[43m)\u001b[49m)\n",
      "Input \u001b[0;32mIn [1]\u001b[0m, in \u001b[0;36minsertion_sort\u001b[0;34m(left, right)\u001b[0m\n\u001b[1;32m     15\u001b[0m                 sub_left \u001b[38;5;241m=\u001b[39m left[:i]\u001b[38;5;241m.\u001b[39mappend(right\u001b[38;5;241m.\u001b[39mpop(\u001b[38;5;241m0\u001b[39m))\n\u001b[1;32m     16\u001b[0m                 sub_right \u001b[38;5;241m=\u001b[39m left[i:]\n\u001b[0;32m---> 18\u001b[0m                 left \u001b[38;5;241m=\u001b[39m \u001b[43msub_left\u001b[49m\u001b[43m \u001b[49m\u001b[38;5;241;43m+\u001b[39;49m\u001b[43m \u001b[49m\u001b[43msub_right\u001b[49m \n\u001b[1;32m     20\u001b[0m \u001b[38;5;28;01mreturn\u001b[39;00m left\n",
      "\u001b[0;31mTypeError\u001b[0m: unsupported operand type(s) for +: 'NoneType' and 'list'"
     ]
    }
   ],
   "source": [
    "data = [7, 5, 9, 0, 3, 1, 6, 2, 4, 8]\n",
    "\n",
    "sub_left, sub_right = [data[0]], data[1:]\n",
    "\n",
    "def insertion_sort(left, right):\n",
    "    while len(left) != len(data):\n",
    "        last, first = left[-1], right[0]\n",
    "        \n",
    "        if last < first:\n",
    "            left.append(right.pop(0))\n",
    "        \n",
    "        else:\n",
    "            for i in range(len(left)):\n",
    "                if left[i] > first:\n",
    "                    sub_left = left[:i].append(right.pop(0))\n",
    "                    sub_right = left[i:]\n",
    "                    \n",
    "                    left = sub_left + sub_right \n",
    "                    \n",
    "    return left\n",
    "\n",
    "print(insertion_sort(sub_left, sub_right))\n",
    "            \n",
    "            \n",
    "            \n",
    "        "
   ]
  },
  {
   "cell_type": "code",
   "execution_count": 2,
   "id": "54608177",
   "metadata": {},
   "outputs": [
    {
     "name": "stdout",
     "output_type": "stream",
     "text": [
      "1 1\n",
      "2 2\n",
      "3 3\n",
      "3 2\n",
      "3 1\n",
      "4 4\n",
      "4 3\n",
      "4 2\n",
      "4 1\n",
      "5 5\n",
      "5 4\n",
      "5 3\n",
      "5 2\n",
      "5 1\n",
      "6 6\n",
      "6 5\n",
      "6 4\n",
      "7 7\n",
      "7 6\n",
      "7 5\n",
      "7 4\n",
      "7 3\n",
      "7 2\n",
      "8 8\n",
      "8 7\n",
      "8 6\n",
      "8 5\n",
      "8 4\n",
      "9 9\n",
      "9 8\n",
      "[0, 1, 2, 3, 4, 5, 6, 7, 8, 9]\n"
     ]
    }
   ],
   "source": [
    "arr = [7, 5, 9, 0, 3, 1, 6, 2, 4, 8]\n",
    "\n",
    "for i in range(1, len(arr)):\n",
    "    for j in range(i, 0, -1):\n",
    "        # 위에서 i까지 출력되고 0은 출력안됨, 1출력됨\n",
    "        # 쉽게 말해서 기존의 range(a, b)형식을 생각하면 됨\n",
    "        print(i, j)\n",
    "        if arr[j] < arr[j-1]:\n",
    "            arr[j], arr[j-1] = arr[j-1], arr[j]\n",
    "            \n",
    "        else:\n",
    "            break\n",
    "            \n",
    "print(arr)"
   ]
  },
  {
   "cell_type": "markdown",
   "id": "9e390729",
   "metadata": {},
   "source": [
    "# 삽입정렬의 시간 복잡도\n",
    "\n",
    "O(N^2)\n",
    "\n",
    ">선택정렬보다 효율적인 이유:<br>\n",
    "    주어진 리스트가 거의 정렬된 상태일수록 연산 속도가 간단해짐\n",
    "    \n",
    "=> 데이터를 하나씩 확인하며, 각 데이터를 적절한 위치에 삽입"
   ]
  },
  {
   "cell_type": "code",
   "execution_count": null,
   "id": "75d7a4a1",
   "metadata": {},
   "outputs": [],
   "source": []
  }
 ],
 "metadata": {
  "kernelspec": {
   "display_name": "Python 3 (ipykernel)",
   "language": "python",
   "name": "python3"
  },
  "language_info": {
   "codemirror_mode": {
    "name": "ipython",
    "version": 3
   },
   "file_extension": ".py",
   "mimetype": "text/x-python",
   "name": "python",
   "nbconvert_exporter": "python",
   "pygments_lexer": "ipython3",
   "version": "3.9.12"
  }
 },
 "nbformat": 4,
 "nbformat_minor": 5
}
