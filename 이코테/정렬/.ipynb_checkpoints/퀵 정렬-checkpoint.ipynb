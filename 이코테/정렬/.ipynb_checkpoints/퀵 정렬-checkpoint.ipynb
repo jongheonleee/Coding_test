{
 "cells": [
  {
   "cell_type": "markdown",
   "id": "fcfaaa8c",
   "metadata": {},
   "source": [
    "\"기준 데이터를 설정하고 그 기준보다 큰 데이터와 작은 데이터의 위치를 바꾸면 어떨까??\"\n",
    "\n",
    "7 5 9 0 3 1 6 2 4 8 을 <b>오름차순</b>으로 정렬하기\n",
    "\n",
    "> 퀵 정렬의 핵심:<br>\n",
    "    - 피벗<br>\n",
    "    - 피벗 기준으로 왼쪽 오른쪽 나누기<br>\n",
    "    - 왼쪽: 피벗보다 작은 숫자, 오른쪽: 피벗보다 큰 숫자<br>\n",
    "    - 왼쪽 리스트와 오른쪽 리스트에서도 각각 피벗을 설정하고 위의 방식으로 정렬 수행<br>\n",
    "    \n",
    "=> <b>피벗, 왼쪽/오른쪽, 정렬(피벗을 기준으로), 전체 정렬이 될때까지 반복</b>"
   ]
  },
  {
   "cell_type": "code",
   "execution_count": 2,
   "id": "1e3638ca",
   "metadata": {},
   "outputs": [
    {
     "name": "stdout",
     "output_type": "stream",
     "text": [
      "[5, 7, 9, 0, 3, 1, 6, 2, 4, 8]\n"
     ]
    }
   ],
   "source": [
    "arr = [5, 7, 9, 0, 3, 1, 6, 2, 4, 8]\n",
    "\n",
    "def quick_sort(arr, start, end):\n",
    "    if start >= end:\n",
    "        return\n",
    "    \n",
    "    # rule1: 피벗은 항상 첫번째 원소로 설정함\n",
    "    pivot = start\n",
    "    left, right = start + 1, end\n",
    "    \n",
    "    while left <= right:\n",
    "        while left <= end and arr[left] <= arr[pivot]:\n",
    "            left += 1\n",
    "            \n",
    "        while right > start and arr[right] >= arr[pivot]:\n",
    "            right -= 1\n",
    "            \n",
    "        if left > right:\n",
    "            arr[right], arr[pivot] = arr[pivot], arr[right]\n",
    "            \n",
    "        else:\n",
    "            arr[left], arr[right] = arr[right], arr[left]\n",
    "            \n",
    "    quick_sort(arr, start, right-1)\n",
    "    quick_sort(arr, right+1, end)\n",
    "\n",
    "quick_sort(arr, 0, len(arr)-1)\n",
    "print(arr)"
   ]
  },
  {
   "cell_type": "code",
   "execution_count": 3,
   "id": "a85bb295",
   "metadata": {},
   "outputs": [
    {
     "name": "stdout",
     "output_type": "stream",
     "text": [
      "[0, 1, 2, 3, 4, 5, 6, 7, 8, 9]\n"
     ]
    }
   ],
   "source": [
    "new_arr = [5, 7, 9, 0, 3, 1, 6, 2, 4, 8]\n",
    "\n",
    "def quick_sort(arr):\n",
    "    if len(arr) <= 1:\n",
    "        return arr\n",
    "    \n",
    "    pivot, tail = arr[0], arr[1:]\n",
    "    \n",
    "    left_side, right_side = [x for x in tail if x <= pivot], [x for x in tail if x > pivot]\n",
    "    \n",
    "    return quick_sort(left_side) + [pivot] + quick_sort(right_side)\n",
    "\n",
    "print(quick_sort(new_arr))"
   ]
  },
  {
   "cell_type": "code",
   "execution_count": null,
   "id": "7e810334",
   "metadata": {},
   "outputs": [],
   "source": [
    "'''\n",
    "집중력 떨어짐 > 나중에 직접 퀵 정렬 수행과정 그리기!!!\n",
    "'''"
   ]
  }
 ],
 "metadata": {
  "kernelspec": {
   "display_name": "Python 3 (ipykernel)",
   "language": "python",
   "name": "python3"
  },
  "language_info": {
   "codemirror_mode": {
    "name": "ipython",
    "version": 3
   },
   "file_extension": ".py",
   "mimetype": "text/x-python",
   "name": "python",
   "nbconvert_exporter": "python",
   "pygments_lexer": "ipython3",
   "version": "3.9.12"
  }
 },
 "nbformat": 4,
 "nbformat_minor": 5
}
