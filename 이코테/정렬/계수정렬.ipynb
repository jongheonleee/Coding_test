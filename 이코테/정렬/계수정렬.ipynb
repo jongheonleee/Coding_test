{
 "cells": [
  {
   "cell_type": "markdown",
   "id": "e08ffcb2",
   "metadata": {},
   "source": [
    "# 계수 정렬\n",
    "\n",
    "> * 특정한 조건이 부합할 때만 사용할 수 있지만 매무 빠른 정렬 알고리즘<br>\n",
    ">    - 특정한 조건: 데이터의 크기 범위가 제한되어 정수 형태로 표현할 수 있을 때만 사용<br>\n",
    "> 왜? 제한이 되어야 하는데??<br>\n",
    "> - 계수 정렬의 리스트에서 인덱스 값이 정렬 하고자하는 리스트의 값들이기 때문에\n",
    "> - 예시) a = [2, 3, 0, 1, 2, 2]  -> cnt = [1, 1, 3, 1] out 0-1-2-2-2-3 \n",
    "> - 실수 형태면 인덱스를 사용 할 수 없음!!\n",
    "><br>\n",
    "><br>\n",
    "> 별도의 리스트를 선언하고 그 안에 정렬에 대한 정보를 담음<br>\n",
    "> - (1) 가장 큰 데이터와 가장 작은 데이터의 범위가 모두 담길 수 있어야함\n",
    "> - (2) 정렬할 데이터의 범위에서 계수 정렬 리스트의 인덱스가 모든 범위를 포함\n",
    "> - (3) 정렬할 데이터의 값과 동일한 인덱스의 데이터를 +1\n"
   ]
  },
  {
   "cell_type": "code",
   "execution_count": 2,
   "id": "122d2744",
   "metadata": {},
   "outputs": [
    {
     "name": "stdout",
     "output_type": "stream",
     "text": [
      "0 0 1 1 2 2 3 4 5 5 6 7 8 9 9 "
     ]
    }
   ],
   "source": [
    "'''\n",
    "계수 정렬 소스 코드\n",
    "'''\n",
    "\n",
    "arr = [7, 5, 9, 0, 3, 1, 6, 2, 9, 1, 4, 8, 0, 5, 2]\n",
    "cnt = [0] * (max(arr) + 1)\n",
    "\n",
    "for i in range(len(arr)):\n",
    "    cnt[arr[i]] += 1\n",
    "    \n",
    "for i in range(len(cnt)):\n",
    "    for j in range(cnt[i]):\n",
    "        print(i, end=' ')"
   ]
  },
  {
   "cell_type": "markdown",
   "id": "b33c3343",
   "metadata": {},
   "source": [
    "# 계수 정렬의 시간 복잡도\n",
    "\n",
    "> N: 데이터의 개수, K = 데이터 중의 최대값의 크기 <br>\n",
    "> O(N+K) <br>\n",
    "> - 데이터를 하나씩 확인하며 리스트에서 적절한 인덱스의 값을 + 1 ; N <br>\n",
    "> - 계수 정렬 리스트의 각 인덱스에 해당하는 값들을 확인할때 ; K <br>\n",
    "<br>\n",
    "<br>\n",
    "\n",
    "# 계수 정렬의 공간 복잡도\n",
    "> O(N+K) <br>\n",
    "> - 정렬할 데이터의 크기; N<br>\n",
    "> - 계수 정렬의 크기; K<br>\n",
    "> <br>\n",
    "> 심각한 비효율성 초래 가능: ex) 0, 999,999 2개의 데이터만 존재하는 경우 메모리 낭비가 심함<br>\n",
    "> <br>\n",
    "> - 데이터의 크기가 한정, 데이터의 크기가 많이 중복된 경우 유리함(항상 사용x)\n",
    "\n",
    "\n",
    "\n",
    "\n",
    "\n",
    "\n"
   ]
  },
  {
   "cell_type": "code",
   "execution_count": null,
   "id": "073271a5",
   "metadata": {},
   "outputs": [],
   "source": []
  }
 ],
 "metadata": {
  "kernelspec": {
   "display_name": "Python 3 (ipykernel)",
   "language": "python",
   "name": "python3"
  },
  "language_info": {
   "codemirror_mode": {
    "name": "ipython",
    "version": 3
   },
   "file_extension": ".py",
   "mimetype": "text/x-python",
   "name": "python",
   "nbconvert_exporter": "python",
   "pygments_lexer": "ipython3",
   "version": "3.9.12"
  }
 },
 "nbformat": 4,
 "nbformat_minor": 5
}
