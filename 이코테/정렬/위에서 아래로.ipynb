{
 "cells": [
  {
   "cell_type": "code",
   "execution_count": 2,
   "id": "2e77beca",
   "metadata": {},
   "outputs": [
    {
     "name": "stdout",
     "output_type": "stream",
     "text": [
      "3\n",
      "15 27 12\n",
      "['27', '15', '12']\n"
     ]
    }
   ],
   "source": [
    "n = input()\n",
    "\n",
    "\n",
    "# 1. 파이써 라이브러리\n",
    "arr = list(input().split())\n",
    "arr.sort(reverse=True)\n",
    "print(arr)\n",
    "\n"
   ]
  },
  {
   "cell_type": "code",
   "execution_count": 3,
   "id": "cc5cb7df",
   "metadata": {},
   "outputs": [
    {
     "name": "stdout",
     "output_type": "stream",
     "text": [
      "5\n",
      "15 27 12 26 28\n",
      "['28', '27', '26', '15', '12']\n"
     ]
    }
   ],
   "source": [
    "n1 = input()\n",
    "\n",
    "arr1 = list(input().split())\n",
    "\n",
    "for i in range(len(arr1)-1):\n",
    "    for j in range(i+1, len(arr1)):\n",
    "        if arr1[i] < arr1[j]:\n",
    "            arr1[i], arr1[j] = arr1[j], arr1[i]\n",
    "            \n",
    "print(arr1)"
   ]
  },
  {
   "cell_type": "code",
   "execution_count": 4,
   "id": "6de8f6d9",
   "metadata": {},
   "outputs": [
    {
     "data": {
      "text/plain": [
       "'배운 정렬들 다 적용 시켜보자!!'"
      ]
     },
     "execution_count": 4,
     "metadata": {},
     "output_type": "execute_result"
    }
   ],
   "source": [
    "'''배운 정렬들 다 적용 시켜보자!!'''"
   ]
  },
  {
   "cell_type": "code",
   "execution_count": null,
   "id": "6972ca57",
   "metadata": {},
   "outputs": [],
   "source": []
  }
 ],
 "metadata": {
  "kernelspec": {
   "display_name": "Python 3 (ipykernel)",
   "language": "python",
   "name": "python3"
  },
  "language_info": {
   "codemirror_mode": {
    "name": "ipython",
    "version": 3
   },
   "file_extension": ".py",
   "mimetype": "text/x-python",
   "name": "python",
   "nbconvert_exporter": "python",
   "pygments_lexer": "ipython3",
   "version": "3.9.12"
  }
 },
 "nbformat": 4,
 "nbformat_minor": 5
}
