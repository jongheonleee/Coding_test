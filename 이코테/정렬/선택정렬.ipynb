{
 "cells": [
  {
   "cell_type": "markdown",
   "id": "8dbf009d",
   "metadata": {},
   "source": [
    "7 5 9 0 3 1 6 2 4 8\n",
    "을 <b>오름차순</b>으로 정렬하기\n",
    "\n",
    "> 선택정렬 \n",
    "    핵심: <br>\n",
    "         - 가장 작은것을 선택<br>\n",
    "         - 맨 앞 숫자와 스왑<br>\n",
    "         - 오름차순 정렬이 완료 될때까지 반복<br>\n",
    "\n",
    "=>  <b>선택, 스왑</b>"
   ]
  },
  {
   "cell_type": "code",
   "execution_count": 2,
   "id": "d35214e1",
   "metadata": {},
   "outputs": [
    {
     "name": "stdout",
     "output_type": "stream",
     "text": [
      "[0, 1, 2, 3, 4, 5, 6, 7, 8, 9]\n"
     ]
    }
   ],
   "source": [
    "data = [7, 5, 9, 0, 3, 1, 6, 2, 4, 8]\n",
    "\n",
    "def selection_sort():\n",
    "    for i in range(len(data)):\n",
    "        min_idx = i\n",
    "        \n",
    "        for j in range(i, len(data)):\n",
    "            if data[min_idx] > data[j]:\n",
    "                min_idx = j\n",
    "                \n",
    "        data[i], data[min_idx] = data[min_idx], data[i]\n",
    "        \n",
    "    return data\n",
    "\n",
    "print(selection_sort())"
   ]
  },
  {
   "cell_type": "markdown",
   "id": "85957b45",
   "metadata": {},
   "source": [
    "# 시간복잡도\n",
    "\n",
    "> 선택정렬의 시간 복잡도:<br>\n",
    "    연산 횟수 => N + (N-1) + (N-2) + ... + 2 = N * (N + 1) / 2 <br>\n",
    "    최고차항 N^2 <br>\n",
    "    *** O(N^2)\n",
    "    \n",
    "\n",
    "    "
   ]
  },
  {
   "cell_type": "code",
   "execution_count": null,
   "id": "b2f2b1f0",
   "metadata": {},
   "outputs": [],
   "source": []
  }
 ],
 "metadata": {
  "kernelspec": {
   "display_name": "Python 3 (ipykernel)",
   "language": "python",
   "name": "python3"
  },
  "language_info": {
   "codemirror_mode": {
    "name": "ipython",
    "version": 3
   },
   "file_extension": ".py",
   "mimetype": "text/x-python",
   "name": "python",
   "nbconvert_exporter": "python",
   "pygments_lexer": "ipython3",
   "version": "3.9.12"
  }
 },
 "nbformat": 4,
 "nbformat_minor": 5
}
